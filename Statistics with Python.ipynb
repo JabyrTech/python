{
 "cells": [
  {
   "cell_type": "markdown",
   "id": "0f9c74fc-0df2-4c47-943e-8d2fc6b494d1",
   "metadata": {},
   "source": [
    "# Creating a split function for integers "
   ]
  },
  {
   "cell_type": "code",
   "execution_count": 1,
   "id": "5e588ab2-4fc4-4d5c-b55e-a2aad7a0be60",
   "metadata": {},
   "outputs": [],
   "source": [
    "def jsplit(string):\n",
    "    list = []\n",
    "    for i in string:\n",
    "        list.append(int(i))\n",
    "        \n",
    "    return list"
   ]
  },
  {
   "cell_type": "markdown",
   "id": "fd0b1c9b-82b3-4ef7-a518-74604adc81b0",
   "metadata": {},
   "source": [
    "Fibinacci Series"
   ]
  },
  {
   "cell_type": "code",
   "execution_count": 2,
   "id": "3103a122-80dd-492d-b8dd-640299145d29",
   "metadata": {},
   "outputs": [
    {
     "data": {
      "text/plain": [
       "[0, 1, 1, 2, 3, 5, 8, 13, 21, 34, 55, 89, 144, 233, 377]"
      ]
     },
     "execution_count": 2,
     "metadata": {},
     "output_type": "execute_result"
    }
   ],
   "source": [
    "series = []\n",
    "\n",
    "while len(series) < 15:\n",
    "    number = 0\n",
    "    while len(series) < 2:\n",
    "        series.append(number)\n",
    "        number += 1\n",
    "        \n",
    "    series.append((series[-1] + series[-2]))\n",
    "\n",
    "series"
   ]
  },
  {
   "cell_type": "code",
   "execution_count": 3,
   "id": "19285cae-84ce-4fd7-9d15-968b35b906ad",
   "metadata": {},
   "outputs": [
    {
     "data": {
      "text/plain": [
       "[21, 25, 29, 33, 37, 41, 45, 49, 53, 57]"
      ]
     },
     "execution_count": 3,
     "metadata": {},
     "output_type": "execute_result"
    }
   ],
   "source": [
    "series = []\n",
    "\n",
    "i = 10\n",
    "j = 11\n",
    "\n",
    "while len(series) < 10:\n",
    "    series.append((i + j))\n",
    "    i += 2\n",
    "    j += 2\n",
    "\n",
    "series"
   ]
  },
  {
   "cell_type": "markdown",
   "id": "b932685a-66e8-49ce-b1aa-8c7c0dd41cdd",
   "metadata": {},
   "source": [
    "# Creating a sort function from scratch"
   ]
  },
  {
   "cell_type": "code",
   "execution_count": 10,
   "id": "31880b78-40f4-4478-b532-0ef4a1a984b6",
   "metadata": {},
   "outputs": [
    {
     "name": "stdin",
     "output_type": "stream",
     "text": [
      "Numbers to sort:  234861545929\n"
     ]
    },
    {
     "data": {
      "text/plain": [
       "[1, 2, 2, 3, 4, 4, 5, 5, 6, 8, 9, 9]"
      ]
     },
     "execution_count": 10,
     "metadata": {},
     "output_type": "execute_result"
    }
   ],
   "source": [
    "# Creating a sort function from scratch\n",
    "\n",
    "def jsort(unsorted):\n",
    "    g = 0\n",
    "    while g != len(unsorted):\n",
    "        n = 1\n",
    "        q = 0\n",
    "        while n != len(unsorted):\n",
    "            i = unsorted[q]\n",
    "            j = unsorted[n]\n",
    "            if i > j:\n",
    "                unsorted[q] = j\n",
    "                unsorted[n] = i\n",
    "                n += 1 \n",
    "                q += 1\n",
    "            else:\n",
    "                n += 1 \n",
    "                q += 1\n",
    "    \n",
    "        g += 1\n",
    "    \n",
    "    sorted = unsorted\n",
    "    \n",
    "    return sorted\n",
    "\n",
    "# take input\n",
    "jsort(jsplit(input('Numbers to sort: ')))\n"
   ]
  },
  {
   "cell_type": "code",
   "execution_count": 107,
   "id": "64d85520-b6e4-42f3-9fce-de56d92dfddf",
   "metadata": {},
   "outputs": [
    {
     "data": {
      "text/plain": [
       "1"
      ]
     },
     "execution_count": 107,
     "metadata": {},
     "output_type": "execute_result"
    }
   ],
   "source": [
    "def jmax(list):\n",
    "    max = 0\n",
    "    for i in list:\n",
    "        if i > max:\n",
    "            max = i\n",
    "\n",
    "    return max\n",
    "\n",
    "def jmin(list):\n",
    "    max = list[0]\n",
    "    for i in list:\n",
    "        if i < max:\n",
    "            max = i\n",
    "\n",
    "    return max"
   ]
  },
  {
   "cell_type": "code",
   "execution_count": 26,
   "id": "f8a7d868-6875-4789-8668-20f3448b5039",
   "metadata": {},
   "outputs": [],
   "source": [
    "\n",
    "def jsum(list):\n",
    "    n = 0\n",
    "    sum = 0\n",
    "    while n != len(list):\n",
    "        sum += list[n]\n",
    "        n += 1\n",
    "    \n",
    "    return sum"
   ]
  },
  {
   "cell_type": "code",
   "execution_count": 115,
   "id": "5efe7455-22d6-4c85-9277-3ff392c0a991",
   "metadata": {},
   "outputs": [],
   "source": [
    "# Finding Mean from lists\n",
    "def jmean(F:list, FX:list):\n",
    "    mean = jsum(FX)/jsum(F)\n",
    "    return mean\n",
    "\n",
    "# finding mode from lists\n",
    "def jmode(X:list, F:list):\n",
    "    hf = jmax(F) # where hf stands for Highest frequency\n",
    "    mode = X[F.index(hf)]\n",
    "\n",
    "    return mode"
   ]
  },
  {
   "cell_type": "code",
   "execution_count": 116,
   "id": "ac101399-9ca7-4672-86f7-f02ea5a39fcc",
   "metadata": {},
   "outputs": [],
   "source": [
    "def jstatistics(n):\n",
    "    n = n # number of element in the list (X)\n",
    "    p = 0 \n",
    "    X = [] # list for storing X\n",
    "    F = [] # list for storing Frequency\n",
    "    FX = [] # list for storing Multiplication of each x with it frequncy\n",
    "    while p != n:\n",
    "        X.append(int(input(f'X{p+1}: '))) # taking the input for x and storing it in list X\n",
    "        F.append(int(input(f'F{p+1}: '))) # taking the input for frequency and storing it in list F\n",
    "        FX.append((X[p]*F[p])) # Multiplying Xn by it frequency Fn and storing in FX\n",
    "        \n",
    "        p += 1\n",
    "    \n",
    "    answer = f'''\n",
    "        ---------------------------------------------------------------------------------------------------\n",
    "        | X  | {X}                                                                                        \n",
    "        |-------------------------------------------------------------------------------------------------|\n",
    "        | F  | {F}      | sum = {jsum(F)}                                                                 \n",
    "        |-------------------------------------------------------------------------------------------------|\n",
    "        | FX | {FX}     | sum = {jsum(FX)}                                                                \n",
    "        ---------------------------------------------------------------------------------------------------\n",
    "    \n",
    "        mean = {jmean(F, FX)}\n",
    "        mode = {jmode(X, F)}\n",
    "        median -> comin soon\n",
    "        '''\n",
    "    \n",
    "    return answer"
   ]
  },
  {
   "cell_type": "code",
   "execution_count": 125,
   "id": "e16db80a-3c6c-48b3-b094-093889de35ad",
   "metadata": {},
   "outputs": [
    {
     "name": "stdout",
     "output_type": "stream",
     "text": [
      "\n",
      "    ||======================================||\n",
      "    ||                                      ||\n",
      "    ||                                      ||\n",
      "    ||       login System with python       ||\n",
      "    ||                                      ||\n",
      "    ||              Password                ||\n",
      "    ||       ________________________       ||\n",
      "    ||                                      ||\n",
      "    ||                                      ||\n",
      "    ||======================================||\n",
      "    ||                                      ||\n",
      "    || 1. Create Account                    ||\n",
      "    || 2. Access Account                    ||\n",
      "    || 3. Delete Account                    ||\n",
      "    ||                                      ||\n",
      "    ||======================================||\n",
      "\n"
     ]
    },
    {
     "name": "stdin",
     "output_type": "stream",
     "text": [
      "Option:  1\n"
     ]
    },
    {
     "name": "stdout",
     "output_type": "stream",
     "text": [
      "\n",
      "    ||======================================||\n",
      "    ||                                      ||\n",
      "    ||                                      ||\n",
      "    ||       login System with python       ||\n",
      "    ||                                      ||\n",
      "    ||              Password                ||\n",
      "    ||       ________________________       ||\n",
      "    ||                                      ||\n",
      "    ||                                      ||\n",
      "    ||======================================||\n",
      "    ||                                      ||\n",
      "    || 1. Username                          ||\n",
      "    || 2. email                             ||\n",
      "    || 3. Password                          ||\n",
      "    ||                                      ||\n",
      "    ||======================================||\n",
      "\n"
     ]
    }
   ],
   "source": [
    "# crazy login system\n",
    "\n",
    "pic = '''\n",
    "    ||======================================||\n",
    "    ||                                      ||\n",
    "    ||                                      ||\n",
    "    ||       login System with python       ||\n",
    "    ||                                      ||\n",
    "    ||              Password                ||\n",
    "    ||       ________________________       ||\n",
    "    ||                                      ||\n",
    "    ||                                      ||\n",
    "    ||======================================||\n",
    "    ||                                      ||\n",
    "    || 1. Create Account                    ||\n",
    "    || 2. Access Account                    ||\n",
    "    || 3. Delete Account                    ||\n",
    "    ||                                      ||\n",
    "    ||======================================||\n",
    "'''\n",
    "\n",
    "pic2 = '''\n",
    "    ||======================================||\n",
    "    ||                                      ||\n",
    "    ||                                      ||\n",
    "    ||       login System with python       ||\n",
    "    ||                                      ||\n",
    "    ||              Password                ||\n",
    "    ||       ________________________       ||\n",
    "    ||                                      ||\n",
    "    ||                                      ||\n",
    "    ||======================================||\n",
    "    ||                                      ||\n",
    "    || 1. Username                          ||\n",
    "    || 2. email                             ||\n",
    "    || 3. Password                          ||\n",
    "    ||                                      ||\n",
    "    ||======================================||\n",
    "'''\n",
    "\n",
    "print(pic)\n",
    "\n",
    "\n",
    "option = int(input('Option: '))\n",
    "\n",
    "if option == 1:\n",
    "    print(pic2)\n",
    "    "
   ]
  }
 ],
 "metadata": {
  "kernelspec": {
   "display_name": "Python 3 (ipykernel)",
   "language": "python",
   "name": "python3"
  },
  "language_info": {
   "codemirror_mode": {
    "name": "ipython",
    "version": 3
   },
   "file_extension": ".py",
   "mimetype": "text/x-python",
   "name": "python",
   "nbconvert_exporter": "python",
   "pygments_lexer": "ipython3",
   "version": "3.11.7"
  }
 },
 "nbformat": 4,
 "nbformat_minor": 5
}
